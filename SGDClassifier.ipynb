{
 "cells": [
  {
   "cell_type": "code",
   "execution_count": 2,
   "metadata": {},
   "outputs": [],
   "source": [
    "import numpy as np\n",
    "import re\n",
    "from csv import DictReader\n",
    "\n",
    "\n",
    "fileLoc = \"/home/vamsi/Downloads/fnc-1-baseline/fnc-1/\"\n",
    "\n",
    "text = []\n",
    "with open(fileLoc+\"words.txt\") as f:\n",
    "    text = f.read()\n",
    "    text = re.sub('\"','',text)\n",
    "    text = re.sub(' ','',text)\n",
    "    text = re.sub('\\n','',text)\n",
    "    text = text.split(',')\n",
    "    \n",
    "def readDict(fname):\n",
    "        rows = []\n",
    "        with open(fname, \"r\", encoding='utf-8') as table:\n",
    "            r = DictReader(table)\n",
    "            for line in r:\n",
    "                rows.append(line)\n",
    "        return rows\n",
    "    \n"
   ]
  },
  {
   "cell_type": "code",
   "execution_count": 3,
   "metadata": {},
   "outputs": [],
   "source": [
    "from sklearn.feature_extraction.text import CountVectorizer\n",
    "\n",
    "numFeatures = 6000\n",
    "\n",
    "countVectorizer = CountVectorizer(max_features=numFeatures, stop_words=text)\n",
    "\n",
    "newsBody = readDict(fileLoc+\"train_bodies.csv\")\n",
    "\n",
    "instances = readDict(fileLoc+\"train_stances.csv\")\n",
    "\n",
    "headers = {}\n",
    "newsBodies = {}\n",
    "\n",
    "for instance in instances:\n",
    "    if instance['Headline'] not in headers:\n",
    "        head_id = len(headers)\n",
    "        headers[instance['Headline']] = head_id\n",
    "    instance['Body ID'] = int(instance['Body ID'])\n",
    "#print(heads)\n",
    "\n",
    "for body in newsBody:\n",
    "    newsBodies[int(body['Body ID'])] = body['articleBody']\n"
   ]
  },
  {
   "cell_type": "code",
   "execution_count": 4,
   "metadata": {},
   "outputs": [],
   "source": [
    "heads = []\n",
    "heads_track = {}\n",
    "bodies = []\n",
    "bodies_track = {}\n",
    "body_ids = []\n",
    "id_ref = {}\n",
    "train_set = []\n",
    "train_stances = []\n",
    "cos_track = {}\n",
    "test_heads = []\n",
    "test_heads_track = {}\n",
    "test_bodies = []\n",
    "test_bodies_track = {}\n",
    "test_body_ids = []\n",
    "head_tfidf_track = {}\n",
    "body_tfidf_track = {}\n",
    "\n",
    "# Identify unique heads and bodies\n",
    "for instance in instances:\n",
    "    head = instance['Headline']\n",
    "    body_id = instance['Body ID']\n",
    "    if head not in heads_track:\n",
    "        heads.append(head)\n",
    "        heads_track[head] = 1\n",
    "    if body_id not in bodies_track:\n",
    "        bodies.append(newsBodies[body_id])\n",
    "        bodies_track[body_id] = 1\n",
    "        body_ids.append(body_id)\n",
    "\n",
    "\n"
   ]
  },
  {
   "cell_type": "code",
   "execution_count": 5,
   "metadata": {},
   "outputs": [],
   "source": [
    "from sklearn.feature_extraction.text import TfidfTransformer\n",
    "from sklearn.feature_extraction.text import TfidfVectorizer\n",
    "bow = countVectorizer.fit_transform(heads + bodies) "
   ]
  },
  {
   "cell_type": "code",
   "execution_count": 6,
   "metadata": {},
   "outputs": [],
   "source": [
    "tfreq_vectorizer = TfidfTransformer(use_idf=False).fit(bow)\n",
    "tfreq = tfreq_vectorizer.transform(bow).toarray() "
   ]
  },
  {
   "cell_type": "code",
   "execution_count": 7,
   "metadata": {},
   "outputs": [
    {
     "name": "stdout",
     "output_type": "stream",
     "text": [
      "<class 'numpy.ndarray'>\n"
     ]
    }
   ],
   "source": [
    "tfidf_vectorizer = TfidfVectorizer(max_features=numFeatures, stop_words=text).fit(heads + bodies + test_heads + test_bodies)  # Train and test sets\n",
    "\n",
    "print(type(tfreq))"
   ]
  },
  {
   "cell_type": "code",
   "execution_count": 8,
   "metadata": {},
   "outputs": [],
   "source": [
    "        # Create reference dictionary\n",
    "id_ref = {}\n",
    "for i, elem in enumerate(heads + body_ids):\n",
    "    id_ref[elem] = i\n",
    "mapLabels = {'agree': 0, 'disagree': 1, 'discuss': 0, 'unrelated': 1}\n",
    "\n"
   ]
  },
  {
   "cell_type": "code",
   "execution_count": 9,
   "metadata": {},
   "outputs": [],
   "source": [
    "from sklearn.metrics.pairwise import cosine_similarity\n",
    "\n",
    "for instance in instances:\n",
    "    head = instance['Headline']\n",
    "    body_id = instance['Body ID']\n",
    "    head_tf = tfreq[id_ref[head]].reshape(1, -1)\n",
    "    body_tf = tfreq[id_ref[body_id]].reshape(1, -1)\n",
    "    if head not in head_tfidf_track:\n",
    "        head_tfidf = tfidf_vectorizer.transform([head]).toarray()\n",
    "        head_tfidf_track[head] = head_tfidf\n",
    "    else:\n",
    "        head_tfidf = head_tfidf_track[head]\n",
    "    if body_id not in body_tfidf_track:\n",
    "        #print(body_id)\n",
    "        body_tfidf = tfidf_vectorizer.transform([newsBodies[body_id]]).toarray()\n",
    "        body_tfidf_track[body_id] = body_tfidf\n",
    "    else:\n",
    "        body_tfidf = body_tfidf_track[body_id]\n",
    "    if (head, body_id) not in cos_track:\n",
    "        tfidf_cos = cosine_similarity(head_tfidf, body_tfidf)[0].reshape(1, 1)\n",
    "        cos_track[(head, body_id)] = tfidf_cos\n",
    "    else:\n",
    "        tfidf_cos = cos_track[(head, body_id)]\n",
    "    feat_vec = np.squeeze(np.c_[head_tf, body_tf, tfidf_cos])\n",
    "    train_set.append(feat_vec)\n",
    "    train_stances.append(mapLabels[instance['Stance']])"
   ]
  },
  {
   "cell_type": "code",
   "execution_count": 10,
   "metadata": {},
   "outputs": [
    {
     "name": "stdout",
     "output_type": "stream",
     "text": [
      "49972 12001\n"
     ]
    }
   ],
   "source": [
    "print(len(train_set),len(train_set[0]))\n",
    "X= np.array(train_set)\n",
    "Y= np.array(train_stances)"
   ]
  },
  {
   "cell_type": "code",
   "execution_count": 11,
   "metadata": {},
   "outputs": [
    {
     "name": "stderr",
     "output_type": "stream",
     "text": [
      "/home/vamsi/miniconda2/envs/py36/lib/python3.6/site-packages/sklearn/linear_model/stochastic_gradient.py:128: FutureWarning: max_iter and tol parameters have been added in <class 'sklearn.linear_model.stochastic_gradient.SGDClassifier'> in 0.19. If both are left unset, they default to max_iter=5 and tol=None. If tol is not None, max_iter defaults to max_iter=1000. From 0.21, default max_iter will be 1000, and default tol will be 1e-3.\n",
      "  \"and default tol will be 1e-3.\" % type(self), FutureWarning)\n"
     ]
    },
    {
     "data": {
      "text/plain": [
       "SGDClassifier(alpha=0.0001, average=False, class_weight=None, epsilon=0.1,\n",
       "       eta0=0.0, fit_intercept=True, l1_ratio=0.15,\n",
       "       learning_rate='optimal', loss='hinge', max_iter=None, n_iter=None,\n",
       "       n_jobs=1, penalty='l2', power_t=0.5, random_state=None,\n",
       "       shuffle=True, tol=None, verbose=0, warm_start=False)"
      ]
     },
     "execution_count": 11,
     "metadata": {},
     "output_type": "execute_result"
    }
   ],
   "source": [
    "import numpy as np\n",
    "from sklearn import linear_model\n",
    "\n",
    "clf = linear_model.SGDClassifier()\n",
    "clf.fit(X, Y)"
   ]
  },
  {
   "cell_type": "code",
   "execution_count": 12,
   "metadata": {},
   "outputs": [
    {
     "name": "stdout",
     "output_type": "stream",
     "text": [
      "Hi\n"
     ]
    }
   ],
   "source": [
    "# Initialise\n",
    "print('Hi')\n",
    "newsBody = readDict(fileLoc+\"competition_test_bodies.csv\")\n",
    "\n",
    "test_instances = readDict(fileLoc+\"competition_test_stances_unlabeled.csv\")\n",
    "\n",
    "headers = {}\n",
    "bodies = {}\n",
    "\n",
    "for instance in test_instances:\n",
    "    if instance['Headline'] not in headers:\n",
    "        head_id = len(headers)\n",
    "        headers[instance['Headline']] = head_id\n",
    "    instance['Body ID'] = int(instance['Body ID'])\n",
    "#print(heads)\n",
    "\n",
    "for body in newsBody:\n",
    "    bodies[int(body['Body ID'])] = body['articleBody']\n",
    "\n",
    "\n",
    "\n",
    "for instance in test_instances:\n",
    "    head = instance['Headline']\n",
    "    body_id = instance['Body ID']\n",
    "    if head not in test_heads_track:\n",
    "        test_heads.append(head)\n",
    "        test_heads_track[head] = 1\n",
    "    if body_id not in test_bodies_track:\n",
    "        test_bodies.append(bodies[body_id])\n",
    "        test_bodies_track[body_id] = 1\n",
    "        test_body_ids.append(body_id)\n",
    "\n",
    "test_set = []\n",
    "heads_track = {}\n",
    "bodies_track = {}\n",
    "cos_track = {}\n",
    "\n",
    "# Process test set\n",
    "for instance in test_instances:\n",
    "    head = instance['Headline']\n",
    "    body_id = instance['Body ID']\n",
    "    if head not in heads_track:\n",
    "        head_bow = countVectorizer.transform([head]).toarray()\n",
    "        head_tf = tfreq_vectorizer.transform(head_bow).toarray()[0].reshape(1, -1)\n",
    "        head_tfidf = tfidf_vectorizer.transform([head]).toarray().reshape(1, -1)\n",
    "        heads_track[head] = (head_tf, head_tfidf)\n",
    "    else:\n",
    "        head_tf = heads_track[head][0]\n",
    "        head_tfidf = heads_track[head][1]\n",
    "    if body_id not in bodies_track:\n",
    "        body_bow = countVectorizer.transform([bodies[body_id]]).toarray()\n",
    "        body_tf = tfreq_vectorizer.transform(body_bow).toarray()[0].reshape(1, -1)\n",
    "        body_tfidf = tfidf_vectorizer.transform([bodies[body_id]]).toarray().reshape(1, -1)\n",
    "        bodies_track[body_id] = (body_tf, body_tfidf)\n",
    "    else:\n",
    "        body_tf = bodies_track[body_id][0]\n",
    "        body_tfidf = bodies_track[body_id][1]\n",
    "    if (head, body_id) not in cos_track:\n",
    "        tfidf_cos = cosine_similarity(head_tfidf, body_tfidf)[0].reshape(1, 1)\n",
    "        cos_track[(head, body_id)] = tfidf_cos\n",
    "    else:\n",
    "        tfidf_cos = cos_track[(head, body_id)]\n",
    "    feat_vec = np.squeeze(np.c_[head_tf, body_tf, tfidf_cos])\n",
    "    test_set.append(feat_vec)\n",
    "\n"
   ]
  },
  {
   "cell_type": "code",
   "execution_count": 13,
   "metadata": {},
   "outputs": [],
   "source": [
    "test_pred = clf.predict(test_set)"
   ]
  },
  {
   "cell_type": "code",
   "execution_count": 14,
   "metadata": {},
   "outputs": [
    {
     "name": "stdout",
     "output_type": "stream",
     "text": [
      "0.9135875339393223\n"
     ]
    }
   ],
   "source": [
    "actualLabels = readDict(fileLoc+\"competition_test_stances.csv\")\n",
    "\n",
    "actualStances = []\n",
    "\n",
    "for r in actualLabels:\n",
    "   # print(r['Stance'])\n",
    "    #print(label_ref[r])\n",
    "    actualStances.append(mapLabels[r['Stance']])\n",
    "    \n",
    "count =0\n",
    "\n",
    "for i in range(len(actualStances)):\n",
    "    if actualStances[i] == test_pred[i]:\n",
    "        count += 1\n",
    "        \n",
    "print(count/len(actualStances))"
   ]
  },
  {
   "cell_type": "code",
   "execution_count": 15,
   "metadata": {},
   "outputs": [
    {
     "name": "stdout",
     "output_type": "stream",
     "text": [
      "0.7494589383386456\n"
     ]
    }
   ],
   "source": [
    "print(sum(actualStances)/len(actualStances))"
   ]
  },
  {
   "cell_type": "code",
   "execution_count": 22,
   "metadata": {},
   "outputs": [
    {
     "name": "stderr",
     "output_type": "stream",
     "text": [
      "/home/vamsi/miniconda2/envs/py36/lib/python3.6/site-packages/sklearn/linear_model/stochastic_gradient.py:128: FutureWarning: max_iter and tol parameters have been added in <class 'sklearn.linear_model.stochastic_gradient.SGDClassifier'> in 0.19. If both are left unset, they default to max_iter=5 and tol=None. If tol is not None, max_iter defaults to max_iter=1000. From 0.21, default max_iter will be 1000, and default tol will be 1e-3.\n",
      "  \"and default tol will be 1e-3.\" % type(self), FutureWarning)\n"
     ]
    }
   ],
   "source": [
    "alphas = [0.0000001,0.000001,0.00001,0.0001,0.001,0.01,0.1,1,10,100,1000]\n",
    "accuracy  = []\n",
    "for alpha in alphas:\n",
    "    clf = linear_model.SGDClassifier(alpha=alpha)\n",
    "    clf.fit(X, Y)\n",
    "    test_pred = clf.predict(test_set)\n",
    "    count = 0\n",
    "    for i in range(len(actualStances)):\n",
    "        if actualStances[i] == test_pred[i]:\n",
    "            count += 1\n",
    "    accuracy.append((count/len(actualStances)))"
   ]
  },
  {
   "cell_type": "code",
   "execution_count": 30,
   "metadata": {},
   "outputs": [],
   "source": [
    "accuracy[0] =  0.870194782198088"
   ]
  },
  {
   "cell_type": "code",
   "execution_count": 34,
   "metadata": {},
   "outputs": [
    {
     "data": {
      "image/png": "[encoded data removed]",
      "text/plain": [
       "<matplotlib.figure.Figure at 0x7f6cf5d5a080>"
      ]
     },
     "metadata": {},
     "output_type": "display_data"
    }
   ],
   "source": [
    "\n",
    "import matplotlib.pyplot as plt\n",
    "#import seaborn as sns\n",
    "\n",
    "#plt.figure(figsize=(20, 4))\n",
    "error = [1-a for a in accuracy]\n",
    "#plt.subplot(1, 2, 1)\n",
    "plt.plot(alphas[:len(alphas)-1], error[:len(alphas)-1])\n",
    "plt.xlabel('Regularisation constant in log base 10')\n",
    "plt.ylabel('Error')\n",
    "plt.title('Error of the classifier on validation set w.r.t to regularisation constant')\n",
    "\n",
    "ax = plt.gca()\n",
    "ax.set_xticklabels([])\n",
    "ax.set_xlabel('Regularisation Constant')\n",
    "ax.set_ylabel('Classification Error')\n",
    "ax.set_xscale('log')\n",
    "plt.show()"
   ]
  },
  {
   "cell_type": "code",
   "execution_count": 36,
   "metadata": {},
   "outputs": [
    {
     "name": "stdout",
     "output_type": "stream",
     "text": [
      "[0.870194782198088, 0.8850194782198088, 0.8994215558965883, 0.9152008814386338, 0.9133907842442844, 0.8788021878566088, 0.7494589383386456, 0.7494589383386456, 0.7494589383386456, 0.7494589383386456, 0.2505410616613544]\n"
     ]
    }
   ],
   "source": [
    "print(accuracy)"
   ]
  },
  {
   "cell_type": "code",
   "execution_count": null,
   "metadata": {},
   "outputs": [],
   "source": []
  }
 ],
 "metadata": {
  "kernelspec": {
   "display_name": "Python 3",
   "language": "python",
   "name": "python3"
  },
  "language_info": {
   "codemirror_mode": {
    "name": "ipython",
    "version": 3
   },
   "file_extension": ".py",
   "mimetype": "text/x-python",
   "name": "python",
   "nbconvert_exporter": "python",
   "pygments_lexer": "ipython3",
   "version": "3.6.3"
  }
 },
 "nbformat": 4,
 "nbformat_minor": 2
}
